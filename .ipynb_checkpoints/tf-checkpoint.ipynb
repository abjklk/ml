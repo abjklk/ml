{
 "cells": [
  {
   "cell_type": "code",
   "execution_count": null,
   "metadata": {},
   "outputs": [],
   "source": [
    "import tensorflow as tf\n",
    "\n",
    "a= tf.add(3,5)\n",
    "print(a)\n",
    "sess=tf.Session()\n",
    "print(sess.run(a))\n",
    "sess.close()"
   ]
  },
  {
   "cell_type": "code",
   "execution_count": null,
   "metadata": {},
   "outputs": [],
   "source": [
    "a= tf.add(3,5)\n",
    "print(a)\n",
    "sess=tf.Session()\n",
    "with tf.Session() as sess:\n",
    "    print(sess.run(a))"
   ]
  },
  {
   "cell_type": "code",
   "execution_count": 1,
   "metadata": {},
   "outputs": [
    {
     "name": "stdout",
     "output_type": "stream",
     "text": [
      "5\n"
     ]
    }
   ],
   "source": [
    "import tensorflow as tf\n",
    "a= tf.constant(2)\n",
    "b= tf.constant(3)\n",
    "x=tf.add(a,b)\n",
    "writer = tf.summary.FileWriter('./graphs',tf.get_default_graph())\n",
    "with tf.Session() as sess:\n",
    "    #writer=tf.summary.FileWriter('.graphs',sess.graph)\n",
    "    print(sess.run(x))\n",
    "writer.close()\n",
    "sess.close()"
   ]
  },
  {
   "cell_type": "code",
   "execution_count": null,
   "metadata": {},
   "outputs": [],
   "source": [
    "print(a)"
   ]
  },
  {
   "cell_type": "code",
   "execution_count": 4,
   "metadata": {},
   "outputs": [
    {
     "name": "stdout",
     "output_type": "stream",
     "text": [
      "26 ops in the final graph.\n"
     ]
    }
   ],
   "source": [
    "import tensorflow as tf\n",
    "\n",
    "a=tf.Variable(5,\"float\",name=\"a\")\n",
    "b=tf.Variable(7,\"float\",name=\"b\")\n",
    "c=tf.Variable(9,\"float\",name=\"c\")\n",
    "\n",
    "f=a**2+b**2+c**2 -(2*a*b)+(2*b*c)-(2*a*c)\n",
    "\n",
    "# f=tf.add_n(tf.pow(a,2),tf.pow(b,2),tf.pow(c,2))\n",
    "# writer = tf.summary.FileWriter('./graphs',tf.get_default_graph())\n",
    "init = tf.global_variables_initializer() \n",
    "output_graph = \"./graphs/a.pb\"\n",
    "with tf.Session() as sess:\n",
    "#     writer=tf.summary.FileWriter('./graphs',sess.graph)\n",
    "    init.run()\n",
    "    result=f.eval()\n",
    "    output_graph_def = tf.graph_util.convert_variables_to_constants(\n",
    "            sess, # The session is used to retrieve the weights\n",
    "            sess.graph_def, # The graph_def is used to retrieve the nodes \n",
    "            [\"sub_1\"]# The output node names are used to select the usefull nodes\n",
    "        )\n",
    "    with tf.gfile.GFile(output_graph, \"wb\") as f:\n",
    "            f.write(output_graph_def.SerializeToString())\n",
    "    print(\"%d ops in the final graph.\" % len(output_graph_def.node))\n",
    "# print(result)\n",
    "# writer.close()\n",
    "    \n"
   ]
  },
  {
   "cell_type": "code",
   "execution_count": 17,
   "metadata": {},
   "outputs": [
    {
     "name": "stdout",
     "output_type": "stream",
     "text": [
      "1.0\n",
      "1.0\n"
     ]
    }
   ],
   "source": [
    "# ( a - b - c )² = a² + b² + c² - 2ab + 2bc - 2ac\n",
    "import numpy as np\n",
    "import tensorflow as tf\n",
    "\n",
    "x=tf.placeholder(tf.float32,name=\"X\")\n",
    "y=tf.placeholder(tf.float32,name=\"Y\")\n",
    "z=tf.placeholder(tf.float32,name=\"Z\")\n",
    "\n",
    "g1=x**2+y**2+z**2 -(2*x*y)+(2*y*z)-(2*x*z)\n",
    "xsq = tf.square(x)\n",
    "ysq = tf.square(y)\n",
    "zsq = tf.square(z)\n",
    "\n",
    "txy = tf.multiply(x,y)*2\n",
    "tyz = tf.multiply(y,z)*2\n",
    "tzx = tf.multiply(x,z)*2\n",
    "\n",
    "# Method 2\n",
    "g = tf.subtract(tf.subtract(tf.add_n([xsq,ysq,zsq,tyz]),txy),tzx)\n",
    "# writer = tf.summary.FileWriter('./graphs',tf.get_default_graph())\n",
    "\n",
    "with tf.Session() as sess:\n",
    "    rand_x = 1\n",
    "    rand_y = 1\n",
    "    rand_z = 1\n",
    "    writer = tf.summary.FileWriter('.graphs',sess.graph)\n",
    "    print(sess.run(g, feed_dict={x: rand_x,y: rand_y,z: rand_z}))    \n",
    "    print(sess.run(g1, feed_dict={x: rand_x,y: rand_y,z: rand_z}))\n",
    "writer.close()"
   ]
  }
 ],
 "metadata": {
  "kernelspec": {
   "display_name": "Python 3",
   "language": "python",
   "name": "python3"
  },
  "language_info": {
   "codemirror_mode": {
    "name": "ipython",
    "version": 3
   },
   "file_extension": ".py",
   "mimetype": "text/x-python",
   "name": "python",
   "nbconvert_exporter": "python",
   "pygments_lexer": "ipython3",
   "version": "3.7.3"
  }
 },
 "nbformat": 4,
 "nbformat_minor": 4
}
