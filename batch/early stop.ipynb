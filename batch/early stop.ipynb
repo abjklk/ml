{
 "cells": [
  {
   "cell_type": "code",
   "execution_count": 1,
   "metadata": {},
   "outputs": [],
   "source": [
    "import numpy as np\n",
    "import pandas as pd\n",
    "import random\n",
    "import pylab\n",
    "from scipy import stats\n",
    "from mpl_toolkits.mplot3d import Axes3D\n",
    "import matplotlib as mpl\n",
    "import matplotlib.pyplot as plt"
   ]
  },
  {
   "cell_type": "code",
   "execution_count": 2,
   "metadata": {},
   "outputs": [],
   "source": [
    "def compute_cost_function(m, t0, t1, x, y):\n",
    "  return 1/2/m * sum([(t0 + t1* np.asarray([x[i]]) - y[i])**2 for i in range(m)])"
   ]
  },
  {
   "cell_type": "code",
   "execution_count": 13,
   "metadata": {},
   "outputs": [],
   "source": [
    "def gradient_descent(alpha, x, y, ep=0.0001, max_iter=1000):\n",
    "    converged = False\n",
    "    iter = 0\n",
    "    m = x.shape[0] # number of samples\n",
    "\n",
    "    # initial theta\n",
    "    t0 = 20\n",
    "    t1 = 1\n",
    "\n",
    "    # total error, J(theta)\n",
    "    J = compute_cost_function(m, t0, t1, x, y)\n",
    "    print('J=', J);\n",
    "    # Iterate Loop\n",
    "    num_iter = 0\n",
    "    while not converged:\n",
    "        # for each training sample, compute the gradient (d/d_theta j(theta))\n",
    "        grad0 = 1.0/m * sum([(t0 + t1*np.asarray([x[i]]) - y[i]) for i in range(m)]) \n",
    "        grad1 = 1.0/m * sum([(t0 + t1*np.asarray([x[i]]) - y[i])*np.asarray([x[i]]) for i in range(m)])\n",
    "\n",
    "        # update the theta_temp\n",
    "        temp0 = t0 - alpha * grad0\n",
    "        temp1 = t1 - alpha * grad1\n",
    "    \n",
    "        # update theta\n",
    "        t0 = temp0\n",
    "        t1 = temp1\n",
    "\n",
    "        # mean squared error\n",
    "        e = compute_cost_function(m, t0, t1, x, y)\n",
    "        print ('J = ', e)\n",
    "        if(abs(e-J)<ep):\n",
    "            print(\"Reached convergence\")\n",
    "            converged=True\n",
    "        J = e   # update error \n",
    "        iter += 1  # update iter\n",
    "    \n",
    "        if iter == max_iter:\n",
    "            print ('Max interactions exceeded!')\n",
    "            converged = True\n",
    "\n",
    "    return t0,t1"
   ]
  },
  {
   "cell_type": "code",
   "execution_count": 5,
   "metadata": {},
   "outputs": [],
   "source": [
    "def plot_cost_function(x, y, m):\n",
    "    t0 = list(range(0, x.shape[0]))\n",
    "    j_values = []\n",
    "    for i in range(len(t0)):\n",
    "        j_values.append(compute_cost_function(m, i, i, x, y)[0])\n",
    "    print ('j_values', len(j_values), len(x), len(y))\n",
    "    fig = plt.figure()\n",
    "    ax = fig.gca(projection='3d')\n",
    "    ax.plot(x, y, j_values, label='parametric curve')\n",
    "    ax.legend()\n",
    "    plt.show()"
   ]
  },
  {
   "cell_type": "code",
   "execution_count": 14,
   "metadata": {},
   "outputs": [
    {
     "name": "stdout",
     "output_type": "stream",
     "text": [
      "J= [3.19938761]\n",
      "J =  [2.99655754]\n",
      "J =  [2.88016441]\n",
      "J =  [2.81335982]\n",
      "J =  [2.77500414]\n",
      "J =  [2.7529697]\n",
      "J =  [2.74029896]\n",
      "J =  [2.73300042]\n",
      "J =  [2.72878419]\n",
      "J =  [2.72633657]\n",
      "J =  [2.72490391]\n",
      "J =  [2.72405382]\n",
      "J =  [2.72353826]\n",
      "J =  [2.72321491]\n",
      "J =  [2.72300213]\n",
      "J =  [2.72285309]\n",
      "J =  [2.72274089]\n",
      "J =  [2.72265013]\n",
      "Reached convergence\n",
      "theta0 = [19.93391394] theta1 = [0.82713968]\n"
     ]
    },
    {
     "data": {
      "image/png": "[encoded data removed]",
      "text/plain": [
       "<Figure size 432x288 with 1 Axes>"
      ]
     },
     "metadata": {
      "needs_background": "light"
     },
     "output_type": "display_data"
    },
    {
     "name": "stdout",
     "output_type": "stream",
     "text": [
      "Done!\n"
     ]
    }
   ],
   "source": [
    "if __name__ == '__main__':\n",
    "  \n",
    "    df = pd.read_csv('6.txt', names=['x','y'])\n",
    "    x = df['x']\n",
    "    y = df['y']\n",
    "     \n",
    "    alpha = 0.06 # learning rate\n",
    "    ep = 0.0001 # convergence criteria\n",
    "\n",
    "    # call gradient decent, and get intercept(=theta0) and slope(=theta1)\n",
    "    theta0, theta1 = gradient_descent(alpha, x, y, ep, max_iter=500)\n",
    "    print ('theta0 = ' + str(theta0)+' theta1 = '+str(theta1))\n",
    "    #plot_cost_function(x, y, x.shape[0])\n",
    "\n",
    "    # plot\n",
    "    for i in range(x.shape[0]):\n",
    "        y_predict = theta0 + theta1*x \n",
    "\n",
    "    pylab.plot(x,y,'o')\n",
    "    pylab.plot(x,y_predict,'k-')\n",
    "    pylab.show()\n",
    "    print (\"Done!\")\n",
    "    \n",
    "    #training and testing set with error "
   ]
  }
 ],
 "metadata": {
  "kernelspec": {
   "display_name": "Python 3",
   "language": "python",
   "name": "python3"
  },
  "language_info": {
   "codemirror_mode": {
    "name": "ipython",
    "version": 3
   },
   "file_extension": ".py",
   "mimetype": "text/x-python",
   "name": "python",
   "nbconvert_exporter": "python",
   "pygments_lexer": "ipython3",
   "version": "3.7.3"
  }
 },
 "nbformat": 4,
 "nbformat_minor": 2
}
